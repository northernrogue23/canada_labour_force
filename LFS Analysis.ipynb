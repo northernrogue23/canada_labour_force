{
 "cells": [
  {
   "cell_type": "code",
   "execution_count": 1,
   "metadata": {},
   "outputs": [],
   "source": [
    "#import packages\n",
    "import numpy as np\n",
    "import pandas as pd\n",
    "import statsmodels.api as sm\n",
    "import statsmodels.formula.api as smf\n",
    "import matplotlib.pyplot as plt\n",
    "import seaborn as sns\n",
    "import datetime\n",
    "import gc"
   ]
  },
  {
   "cell_type": "code",
   "execution_count": 2,
   "metadata": {},
   "outputs": [],
   "source": [
    "#reading datasets\n",
    "jun_data = pd.read_csv('C:/Users/Bobby/Documents/Stats Canada/pub0620.csv',sep=',')\n",
    "may_data = pd.read_csv('C:/Users/Bobby/Documents/Stats Canada/pub0520.csv',sep=',')\n",
    "apr_data = pd.read_csv('C:/Users/Bobby/Documents/Stats Canada/pub0420.csv',sep=',')\n",
    "mar_data = pd.read_csv('C:/Users/Bobby/Documents/Stats Canada/pub0320.csv',sep=',')\n",
    "feb_data = pd.read_csv('C:/Users/Bobby/Documents/Stats Canada/pub0220.csv',sep=',')\n",
    "jan_data = pd.read_csv('C:/Users/Bobby/Documents/Stats Canada/pub0120.csv',sep=',')"
   ]
  },
  {
   "cell_type": "code",
   "execution_count": 4,
   "metadata": {},
   "outputs": [
    {
     "name": "stdout",
     "output_type": "stream",
     "text": [
      "[4 1 2 3]\n"
     ]
    }
   ],
   "source": [
    "print(jun_data['LFSSTAT'].unique())"
   ]
  },
  {
   "cell_type": "code",
   "execution_count": 3,
   "metadata": {
    "scrolled": true
   },
   "outputs": [
    {
     "name": "stderr",
     "output_type": "stream",
     "text": [
      "c:\\users\\bobby\\appdata\\local\\programs\\python\\python36-32\\lib\\site-packages\\ipykernel\\__main__.py:2: UserWarning: Boolean Series key will be reindexed to match DataFrame index.\n",
      "  from ipykernel import kernelapp as app\n",
      "c:\\users\\bobby\\appdata\\local\\programs\\python\\python36-32\\lib\\site-packages\\ipykernel\\__main__.py:3: UserWarning: Boolean Series key will be reindexed to match DataFrame index.\n",
      "  app.launch_new_instance()\n",
      "c:\\users\\bobby\\appdata\\local\\programs\\python\\python36-32\\lib\\site-packages\\ipykernel\\__main__.py:4: UserWarning: Boolean Series key will be reindexed to match DataFrame index.\n",
      "c:\\users\\bobby\\appdata\\local\\programs\\python\\python36-32\\lib\\site-packages\\ipykernel\\__main__.py:6: UserWarning: Boolean Series key will be reindexed to match DataFrame index.\n",
      "c:\\users\\bobby\\appdata\\local\\programs\\python\\python36-32\\lib\\site-packages\\ipykernel\\__main__.py:7: UserWarning: Boolean Series key will be reindexed to match DataFrame index.\n",
      "c:\\users\\bobby\\appdata\\local\\programs\\python\\python36-32\\lib\\site-packages\\ipykernel\\__main__.py:8: UserWarning: Boolean Series key will be reindexed to match DataFrame index.\n",
      "c:\\users\\bobby\\appdata\\local\\programs\\python\\python36-32\\lib\\site-packages\\ipykernel\\__main__.py:10: UserWarning: Boolean Series key will be reindexed to match DataFrame index.\n",
      "c:\\users\\bobby\\appdata\\local\\programs\\python\\python36-32\\lib\\site-packages\\ipykernel\\__main__.py:11: UserWarning: Boolean Series key will be reindexed to match DataFrame index.\n",
      "c:\\users\\bobby\\appdata\\local\\programs\\python\\python36-32\\lib\\site-packages\\ipykernel\\__main__.py:12: UserWarning: Boolean Series key will be reindexed to match DataFrame index.\n",
      "c:\\users\\bobby\\appdata\\local\\programs\\python\\python36-32\\lib\\site-packages\\ipykernel\\__main__.py:14: UserWarning: Boolean Series key will be reindexed to match DataFrame index.\n"
     ]
    },
    {
     "name": "stdout",
     "output_type": "stream",
     "text": [
      "0.1466609212896738\n",
      "0.157850635194535\n",
      "0.13831967348725127\n",
      "0.09381234795644765\n",
      "0.07573674980585463\n",
      "0.07464309354274845\n"
     ]
    },
    {
     "name": "stderr",
     "output_type": "stream",
     "text": [
      "c:\\users\\bobby\\appdata\\local\\programs\\python\\python36-32\\lib\\site-packages\\ipykernel\\__main__.py:15: UserWarning: Boolean Series key will be reindexed to match DataFrame index.\n",
      "c:\\users\\bobby\\appdata\\local\\programs\\python\\python36-32\\lib\\site-packages\\ipykernel\\__main__.py:16: UserWarning: Boolean Series key will be reindexed to match DataFrame index.\n",
      "c:\\users\\bobby\\appdata\\local\\programs\\python\\python36-32\\lib\\site-packages\\ipykernel\\__main__.py:18: UserWarning: Boolean Series key will be reindexed to match DataFrame index.\n",
      "c:\\users\\bobby\\appdata\\local\\programs\\python\\python36-32\\lib\\site-packages\\ipykernel\\__main__.py:19: UserWarning: Boolean Series key will be reindexed to match DataFrame index.\n",
      "c:\\users\\bobby\\appdata\\local\\programs\\python\\python36-32\\lib\\site-packages\\ipykernel\\__main__.py:20: UserWarning: Boolean Series key will be reindexed to match DataFrame index.\n",
      "c:\\users\\bobby\\appdata\\local\\programs\\python\\python36-32\\lib\\site-packages\\ipykernel\\__main__.py:22: UserWarning: Boolean Series key will be reindexed to match DataFrame index.\n",
      "c:\\users\\bobby\\appdata\\local\\programs\\python\\python36-32\\lib\\site-packages\\ipykernel\\__main__.py:23: UserWarning: Boolean Series key will be reindexed to match DataFrame index.\n",
      "c:\\users\\bobby\\appdata\\local\\programs\\python\\python36-32\\lib\\site-packages\\ipykernel\\__main__.py:24: UserWarning: Boolean Series key will be reindexed to match DataFrame index.\n"
     ]
    }
   ],
   "source": [
    "#preliminary calculations of unemployment rates\n",
    "unemployment_june = sum(jun_data[jun_data['LFSSTAT'] == 3][jun_data['PROV'] == 48]['FINALWT'])/\\\n",
    "(sum(jun_data[jun_data['LFSSTAT'] == 1][jun_data['PROV'] == 48]['FINALWT']) + \n",
    " sum(jun_data[jun_data['LFSSTAT'] == 2][jun_data['PROV'] == 48]['FINALWT']) +\n",
    " sum(jun_data[jun_data['LFSSTAT'] == 3][jun_data['PROV'] == 48]['FINALWT']))\n",
    "print(unemployment_june)\n",
    "unemployment_may = sum(may_data[may_data['LFSSTAT'] == 3][may_data['PROV'] == 48]['FINALWT'])/\\\n",
    "(sum(may_data[may_data['LFSSTAT'] == 1][may_data['PROV'] == 48]['FINALWT']) + \n",
    " sum(may_data[may_data['LFSSTAT'] == 2][may_data['PROV'] == 48]['FINALWT']) +\n",
    " sum(may_data[may_data['LFSSTAT'] == 3][may_data['PROV'] == 48]['FINALWT']))\n",
    "print(unemployment_may)\n",
    "unemployment_apr = sum(apr_data[apr_data['LFSSTAT'] == 3][apr_data['PROV'] == 48]['FINALWT'])/\\\n",
    "(sum(apr_data[apr_data['LFSSTAT'] == 1][apr_data['PROV'] == 48]['FINALWT']) + \n",
    " sum(apr_data[apr_data['LFSSTAT'] == 2][apr_data['PROV'] == 48]['FINALWT']) +\n",
    " sum(apr_data[apr_data['LFSSTAT'] == 3][apr_data['PROV'] == 48]['FINALWT']))\n",
    "print(unemployment_apr)\n",
    "unemployment_mar = sum(mar_data[mar_data['LFSSTAT'] == 3][mar_data['PROV'] == 48]['FINALWT'])/\\\n",
    "(sum(mar_data[mar_data['LFSSTAT'] == 1][mar_data['PROV'] == 48]['FINALWT']) + \n",
    " sum(mar_data[mar_data['LFSSTAT'] == 2][mar_data['PROV'] == 48]['FINALWT']) +\n",
    " sum(mar_data[mar_data['LFSSTAT'] == 3][mar_data['PROV'] == 48]['FINALWT']))\n",
    "print(unemployment_mar)\n",
    "unemployment_jan = sum(jan_data[jan_data['LFSSTAT'] == 3][jan_data['PROV'] == 48]['FINALWT'])/\\\n",
    "(sum(jan_data[jan_data['LFSSTAT'] == 1][jan_data['PROV'] == 48]['FINALWT']) + \n",
    " sum(jan_data[jan_data['LFSSTAT'] == 2][jan_data['PROV'] == 48]['FINALWT']) +\n",
    " sum(jan_data[jan_data['LFSSTAT'] == 3][jan_data['PROV'] == 48]['FINALWT']))\n",
    "print(unemployment_jan)\n",
    "unemployment_feb = sum(feb_data[feb_data['LFSSTAT'] == 3][feb_data['PROV'] == 48]['FINALWT'])/\\\n",
    "(sum(feb_data[feb_data['LFSSTAT'] == 1][feb_data['PROV'] == 48]['FINALWT']) + \n",
    " sum(feb_data[feb_data['LFSSTAT'] == 2][feb_data['PROV'] == 48]['FINALWT']) +\n",
    " sum(feb_data[feb_data['LFSSTAT'] == 3][feb_data['PROV'] == 48]['FINALWT']))\n",
    "print(unemployment_feb)"
   ]
  },
  {
   "cell_type": "code",
   "execution_count": 4,
   "metadata": {
    "collapsed": true
   },
   "outputs": [],
   "source": [
    "#specifying data set\n",
    "data = may_data"
   ]
  },
  {
   "cell_type": "code",
   "execution_count": 5,
   "metadata": {
    "collapsed": true
   },
   "outputs": [],
   "source": [
    "#function for defining provinces\n",
    "def prov_label(row):\n",
    "    if row['PROV'] == 10:\n",
    "        return 'Newfoundland & Labrador'\n",
    "    if row['PROV'] == 11:\n",
    "        return 'PEI'\n",
    "    if row['PROV'] == 12:\n",
    "        return 'Nova Scotia'\n",
    "    if row['PROV'] == 13:\n",
    "        return 'New Brunswick'\n",
    "    if row['PROV'] == 24:\n",
    "        return 'Quebec'\n",
    "    if row['PROV'] == 35:\n",
    "        return 'Ontario'\n",
    "    if row['PROV'] == 46:\n",
    "        return 'Manitoba'\n",
    "    if row['PROV'] == 47:\n",
    "        return 'Saskatchewan'\n",
    "    if row['PROV'] == 48:\n",
    "        return 'Alberta'\n",
    "    if row['PROV'] == 59:\n",
    "        return 'BC'\n",
    "    return 'Other'"
   ]
  },
  {
   "cell_type": "code",
   "execution_count": 6,
   "metadata": {
    "collapsed": true
   },
   "outputs": [],
   "source": [
    "#function for defining employee status\n",
    "def emp_status(row):\n",
    "    if row['LFSSTAT'] == 1:\n",
    "        return 'Employed'\n",
    "    if row['LFSSTAT'] == 2:\n",
    "        return 'Employed but absent from work'\n",
    "    if row['LFSSTAT'] == 3:\n",
    "        return 'Unemployed'\n",
    "    return 'out of labour force'"
   ]
  },
  {
   "cell_type": "code",
   "execution_count": 7,
   "metadata": {
    "scrolled": true
   },
   "outputs": [
    {
     "name": "stdout",
     "output_type": "stream",
     "text": [
      "559281\n"
     ]
    }
   ],
   "source": [
    "#combine all data sets\n",
    "all_data = pd.concat([jan_data,feb_data,mar_data,apr_data,may_data,jun_data])\n",
    "print(len(all_data))"
   ]
  },
  {
   "cell_type": "code",
   "execution_count": 8,
   "metadata": {},
   "outputs": [],
   "source": [
    "data['Province Name'] = data.apply(lambda row: prov_label(row),axis=1)\n",
    "data['Emp Status'] = data.apply(lambda row: emp_status(row),axis=1)"
   ]
  },
  {
   "cell_type": "code",
   "execution_count": 9,
   "metadata": {
    "collapsed": true
   },
   "outputs": [],
   "source": [
    "#create categories for age categorization and education classification\n",
    "def age_cat(row):\n",
    "    if row['AGE_12'] == 1:\n",
    "        return '15 to 19 years'\n",
    "    if row['AGE_12'] == 2:\n",
    "        return '20 to 24 years'\n",
    "    if row['AGE_12'] == 3:\n",
    "        return '25 to 29 years'\n",
    "    if row['AGE_12'] == 4:\n",
    "        return '30 to 34 years'\n",
    "    if row['AGE_12'] == 5:\n",
    "        return '35 to 39 years'\n",
    "    if row['AGE_12'] == 6:\n",
    "        return '40 to 44 years'\n",
    "    if row['AGE_12'] == 7:\n",
    "        return '50 to 54 years'\n",
    "    if row['AGE_12'] == 8:\n",
    "        return '55 to 59 years'\n",
    "    if row['AGE_12'] == 9:\n",
    "        return '60 to 64 years'\n",
    "    if row['AGE_12'] == 10:\n",
    "        return '15 to 19 years'\n",
    "    if row['AGE_12'] == 11:\n",
    "        return '65 to 69 years'\n",
    "    if row['AGE_12'] == 12:\n",
    "        return '70 and over'\n",
    "    return 'Unknown'\n",
    "\n",
    "def educ_cat(row):\n",
    "    if row['EDUC'] == 0:\n",
    "        return '0 to 8 years'\n",
    "    if row['EDUC'] == 1:\n",
    "        return 'Some high school'\n",
    "    if row['EDUC'] == 2:\n",
    "        return 'High school graduate'\n",
    "    if row['EDUC'] == 3:\n",
    "        return 'Some postsecondary'\n",
    "    if row['EDUC'] == 4:\n",
    "        return 'Postsecondary certificate or diploma'\n",
    "    if row['EDUC'] == 5:\n",
    "        return 'Bachelor\\'s degree'\n",
    "    if row['EDUC'] == 6:\n",
    "        return 'Above bachelor\\'s degree'"
   ]
  },
  {
   "cell_type": "code",
   "execution_count": 10,
   "metadata": {
    "collapsed": true
   },
   "outputs": [],
   "source": [
    "def month(row):\n",
    "    if row['SURVMNTH'] == 1:\n",
    "        return datetime.datetime(2020,1,1)\n",
    "    if row['SURVMNTH'] == 2:\n",
    "        return datetime.datetime(2020,2,1)\n",
    "    if row['SURVMNTH'] == 3:\n",
    "        return datetime.datetime(2020,3,1)\n",
    "    if row['SURVMNTH'] == 4:\n",
    "        return datetime.datetime(2020,4,1)\n",
    "    if row['SURVMNTH'] == 5:\n",
    "        return datetime.datetime(2020,5,1)"
   ]
  },
  {
   "cell_type": "code",
   "execution_count": 11,
   "metadata": {
    "collapsed": true
   },
   "outputs": [],
   "source": [
    "new_month_op = {1:datetime.datetime(2020,1,1),2:datetime.datetime(2020,2,1),3:datetime.datetime(2020,3,1),\\\n",
    "               4:datetime.datetime(2020,4,1),5:datetime.datetime(2020,5,1),6:datetime.datetime(2020,6,1)}"
   ]
  },
  {
   "cell_type": "code",
   "execution_count": 12,
   "metadata": {},
   "outputs": [],
   "source": [
    "new_ed = {0:'0 to 8 years',1:'Some high school',2:'High school graduate',3:'Some postsecondary',\\\n",
    "         4:'Postsecondary certificate or diploma',5:'Bachelor\\'s degree',6:'Above bachelor\\'s degree'}\n",
    "new_age = {1:'15 to 19 years',2:'20 to 24 years',3:'25 to 29 years',4:'30 to 34 years',\\\n",
    "           5:'35 to 39 years',6:'40 to 44 years',7:'50 to 54 years',8:'55 to 59 years',9:'60 to 64 years',\\\n",
    "          10:'15 to 19 years',11:'65 to 69 years',12:'70 and over'}\n",
    "new_prov = {10:'Newfoundland & Labrador',11:'PEI',12:'Nova Scotia',13:'New Brunswick',\\\n",
    "           24:'Quebec',35:'Ontario',46:'Manitoba',47:'Saskatchewan',48:'Alberta',\\\n",
    "          59:'BC'}\n",
    "new_emp = {1:'Employed',2:'Employed but absent from work',3:'Unemployed',4:'Out of Labour Force'}\n",
    "cma = {0:'Other CMA',1:'Quebec City',2:'Montreal',3:'Ottawa',4:'Toronto',5:'Hamilton',6:'Winnipeg',7:'Calgary',\\\n",
    "      8:'Edmonton',9:'Vancouver'}\n",
    "married = {1:'Married',2:'Living Common-Law',3:'Widowed',4:'Separated',5:'Divorced',6:'Single, never married'}"
   ]
  },
  {
   "cell_type": "code",
   "execution_count": 13,
   "metadata": {},
   "outputs": [],
   "source": [
    "#apply categorizations to specific data sets\n",
    "data['Age_Cat'] = data.apply(lambda row: age_cat(row),axis=1)\n",
    "data['Educ_Cat'] = data.apply(lambda row: educ_cat(row),axis=1)"
   ]
  },
  {
   "cell_type": "code",
   "execution_count": 14,
   "metadata": {
    "scrolled": true
   },
   "outputs": [],
   "source": [
    "#apply categorizations to all data sets\n",
    "# too much memory\n",
    "# all_data['Emp Status'] = all_data.apply(lambda row: emp_status(row),axis=1)\n",
    "# all_data['Province Name'] = all_data.apply(lambda row: prov_label(row),axis=1)\n",
    "# all_data['Age_Cat'] = all_data.apply(lambda row: age_cat(row),axis=1)\n",
    "# all_data['Educ_Cat'] = all_data.apply(lambda row: educ_cat(row),axis=1)"
   ]
  },
  {
   "cell_type": "code",
   "execution_count": 15,
   "metadata": {
    "scrolled": true
   },
   "outputs": [],
   "source": [
    "# all_data['Month'] = all_data.apply(lambda row:month(row),axis=1)"
   ]
  },
  {
   "cell_type": "code",
   "execution_count": 16,
   "metadata": {},
   "outputs": [],
   "source": [
    "all_data['Month'] = all_data['SURVMNTH'].apply(lambda x: new_month_op[x])\n",
    "all_data['Emp Status'] = all_data['LFSSTAT'].apply(lambda x: new_emp[x])\n",
    "all_data['Province Name'] = all_data['PROV'].apply(lambda x: new_prov[x])\n",
    "all_data['Age_Cat'] = all_data['AGE_12'].apply(lambda x: new_age[x])\n",
    "all_data['Educ_Cat'] = all_data['EDUC'].apply(lambda x: new_ed[x])\n",
    "all_data['Marital Status'] = all_data['MARSTAT'].apply(lambda x: married[x])"
   ]
  },
  {
   "cell_type": "code",
   "execution_count": null,
   "metadata": {},
   "outputs": [],
   "source": [
    "sam_data = pd.crosstab(all_data['Province Name'],[all_data['Emp Status']])\n",
    "sam_data"
   ]
  },
  {
   "cell_type": "code",
   "execution_count": null,
   "metadata": {},
   "outputs": [],
   "source": [
    "# original dataframe, compare with above\n",
    "# sam_data = pd.crosstab(all_data['Province Name'],[all_data['Emp Status']])\n",
    "# sam_data"
   ]
  },
  {
   "cell_type": "code",
   "execution_count": 17,
   "metadata": {
    "scrolled": true
   },
   "outputs": [
    {
     "data": {
      "text/html": [
       "<div>\n",
       "<style scoped>\n",
       "    .dataframe tbody tr th:only-of-type {\n",
       "        vertical-align: middle;\n",
       "    }\n",
       "\n",
       "    .dataframe tbody tr th {\n",
       "        vertical-align: top;\n",
       "    }\n",
       "\n",
       "    .dataframe thead tr th {\n",
       "        text-align: left;\n",
       "    }\n",
       "\n",
       "    .dataframe thead tr:last-of-type th {\n",
       "        text-align: right;\n",
       "    }\n",
       "</style>\n",
       "<table border=\"1\" class=\"dataframe\">\n",
       "  <thead>\n",
       "    <tr>\n",
       "      <th></th>\n",
       "      <th colspan=\"4\" halign=\"left\">FINALWT</th>\n",
       "    </tr>\n",
       "    <tr>\n",
       "      <th>Emp Status</th>\n",
       "      <th>Employed</th>\n",
       "      <th>Employed but absent from work</th>\n",
       "      <th>Unemployed</th>\n",
       "      <th>out of labour force</th>\n",
       "    </tr>\n",
       "    <tr>\n",
       "      <th>Age_Cat</th>\n",
       "      <th></th>\n",
       "      <th></th>\n",
       "      <th></th>\n",
       "      <th></th>\n",
       "    </tr>\n",
       "  </thead>\n",
       "  <tbody>\n",
       "    <tr>\n",
       "      <th>15 to 19 years</th>\n",
       "      <td>65.21</td>\n",
       "      <td>10.59</td>\n",
       "      <td>24.20</td>\n",
       "      <td>93.73</td>\n",
       "    </tr>\n",
       "    <tr>\n",
       "      <th>20 to 24 years</th>\n",
       "      <td>58.85</td>\n",
       "      <td>10.58</td>\n",
       "      <td>30.57</td>\n",
       "      <td>33.51</td>\n",
       "    </tr>\n",
       "    <tr>\n",
       "      <th>25 to 29 years</th>\n",
       "      <td>65.65</td>\n",
       "      <td>12.77</td>\n",
       "      <td>21.58</td>\n",
       "      <td>19.45</td>\n",
       "    </tr>\n",
       "    <tr>\n",
       "      <th>30 to 34 years</th>\n",
       "      <td>74.01</td>\n",
       "      <td>13.69</td>\n",
       "      <td>12.30</td>\n",
       "      <td>20.09</td>\n",
       "    </tr>\n",
       "    <tr>\n",
       "      <th>35 to 39 years</th>\n",
       "      <td>74.02</td>\n",
       "      <td>13.32</td>\n",
       "      <td>12.65</td>\n",
       "      <td>17.39</td>\n",
       "    </tr>\n",
       "    <tr>\n",
       "      <th>40 to 44 years</th>\n",
       "      <td>78.07</td>\n",
       "      <td>10.06</td>\n",
       "      <td>11.87</td>\n",
       "      <td>17.83</td>\n",
       "    </tr>\n",
       "    <tr>\n",
       "      <th>50 to 54 years</th>\n",
       "      <td>79.89</td>\n",
       "      <td>8.65</td>\n",
       "      <td>11.46</td>\n",
       "      <td>17.39</td>\n",
       "    </tr>\n",
       "    <tr>\n",
       "      <th>55 to 59 years</th>\n",
       "      <td>80.48</td>\n",
       "      <td>8.58</td>\n",
       "      <td>10.94</td>\n",
       "      <td>17.55</td>\n",
       "    </tr>\n",
       "    <tr>\n",
       "      <th>60 to 64 years</th>\n",
       "      <td>77.39</td>\n",
       "      <td>10.66</td>\n",
       "      <td>11.96</td>\n",
       "      <td>34.63</td>\n",
       "    </tr>\n",
       "    <tr>\n",
       "      <th>65 to 69 years</th>\n",
       "      <td>67.14</td>\n",
       "      <td>20.34</td>\n",
       "      <td>12.52</td>\n",
       "      <td>302.98</td>\n",
       "    </tr>\n",
       "    <tr>\n",
       "      <th>70 and over</th>\n",
       "      <td>70.40</td>\n",
       "      <td>25.63</td>\n",
       "      <td>3.98</td>\n",
       "      <td>775.38</td>\n",
       "    </tr>\n",
       "  </tbody>\n",
       "</table>\n",
       "</div>"
      ],
      "text/plain": [
       "                FINALWT                                           \\\n",
       "Emp Status     Employed Employed but absent from work Unemployed   \n",
       "Age_Cat                                                            \n",
       "15 to 19 years    65.21                         10.59      24.20   \n",
       "20 to 24 years    58.85                         10.58      30.57   \n",
       "25 to 29 years    65.65                         12.77      21.58   \n",
       "30 to 34 years    74.01                         13.69      12.30   \n",
       "35 to 39 years    74.02                         13.32      12.65   \n",
       "40 to 44 years    78.07                         10.06      11.87   \n",
       "50 to 54 years    79.89                          8.65      11.46   \n",
       "55 to 59 years    80.48                          8.58      10.94   \n",
       "60 to 64 years    77.39                         10.66      11.96   \n",
       "65 to 69 years    67.14                         20.34      12.52   \n",
       "70 and over       70.40                         25.63       3.98   \n",
       "\n",
       "                                    \n",
       "Emp Status     out of labour force  \n",
       "Age_Cat                             \n",
       "15 to 19 years               93.73  \n",
       "20 to 24 years               33.51  \n",
       "25 to 29 years               19.45  \n",
       "30 to 34 years               20.09  \n",
       "35 to 39 years               17.39  \n",
       "40 to 44 years               17.83  \n",
       "50 to 54 years               17.39  \n",
       "55 to 59 years               17.55  \n",
       "60 to 64 years               34.63  \n",
       "65 to 69 years              302.98  \n",
       "70 and over                 775.38  "
      ]
     },
     "execution_count": 17,
     "metadata": {},
     "output_type": "execute_result"
    }
   ],
   "source": [
    "percent = pd.pivot_table(data[data['Province Name'] == 'Alberta'], values=['FINALWT'],index=['Age_Cat'],columns=['Emp Status'],aggfunc=np.sum).apply(lambda r: round(r/(r.sum()-r[3])*100,2), axis=1)\n",
    "total = pd.pivot_table(data[data['Province Name'] == 'Alberta'], values=['FINALWT'],index=['Age_Cat'],columns=['Emp Status'],aggfunc=np.sum)\n",
    "percent"
   ]
  },
  {
   "cell_type": "code",
   "execution_count": 18,
   "metadata": {},
   "outputs": [
    {
     "data": {
      "text/html": [
       "<div>\n",
       "<style scoped>\n",
       "    .dataframe tbody tr th:only-of-type {\n",
       "        vertical-align: middle;\n",
       "    }\n",
       "\n",
       "    .dataframe tbody tr th {\n",
       "        vertical-align: top;\n",
       "    }\n",
       "\n",
       "    .dataframe thead tr th {\n",
       "        text-align: left;\n",
       "    }\n",
       "\n",
       "    .dataframe thead tr:last-of-type th {\n",
       "        text-align: right;\n",
       "    }\n",
       "</style>\n",
       "<table border=\"1\" class=\"dataframe\">\n",
       "  <thead>\n",
       "    <tr>\n",
       "      <th></th>\n",
       "      <th colspan=\"4\" halign=\"left\">FINALWT</th>\n",
       "    </tr>\n",
       "    <tr>\n",
       "      <th>Emp Status</th>\n",
       "      <th>Employed</th>\n",
       "      <th>Employed but absent from work</th>\n",
       "      <th>Unemployed</th>\n",
       "      <th>out of labour force</th>\n",
       "    </tr>\n",
       "    <tr>\n",
       "      <th>Educ_Cat</th>\n",
       "      <th></th>\n",
       "      <th></th>\n",
       "      <th></th>\n",
       "      <th></th>\n",
       "    </tr>\n",
       "  </thead>\n",
       "  <tbody>\n",
       "    <tr>\n",
       "      <th>0 to 8 years</th>\n",
       "      <td>75.42</td>\n",
       "      <td>11.05</td>\n",
       "      <td>13.52</td>\n",
       "      <td>283.05</td>\n",
       "    </tr>\n",
       "    <tr>\n",
       "      <th>Above bachelor's degree</th>\n",
       "      <td>83.19</td>\n",
       "      <td>9.11</td>\n",
       "      <td>7.70</td>\n",
       "      <td>26.66</td>\n",
       "    </tr>\n",
       "    <tr>\n",
       "      <th>Bachelor's degree</th>\n",
       "      <td>79.75</td>\n",
       "      <td>10.30</td>\n",
       "      <td>9.94</td>\n",
       "      <td>32.42</td>\n",
       "    </tr>\n",
       "    <tr>\n",
       "      <th>High school graduate</th>\n",
       "      <td>68.22</td>\n",
       "      <td>12.14</td>\n",
       "      <td>19.64</td>\n",
       "      <td>56.87</td>\n",
       "    </tr>\n",
       "    <tr>\n",
       "      <th>Postsecondary certificate or diploma</th>\n",
       "      <td>72.73</td>\n",
       "      <td>12.72</td>\n",
       "      <td>14.55</td>\n",
       "      <td>37.94</td>\n",
       "    </tr>\n",
       "    <tr>\n",
       "      <th>Some high school</th>\n",
       "      <td>62.04</td>\n",
       "      <td>12.57</td>\n",
       "      <td>25.39</td>\n",
       "      <td>133.97</td>\n",
       "    </tr>\n",
       "    <tr>\n",
       "      <th>Some postsecondary</th>\n",
       "      <td>56.63</td>\n",
       "      <td>11.50</td>\n",
       "      <td>31.87</td>\n",
       "      <td>53.00</td>\n",
       "    </tr>\n",
       "  </tbody>\n",
       "</table>\n",
       "</div>"
      ],
      "text/plain": [
       "                                      FINALWT                                \\\n",
       "Emp Status                           Employed Employed but absent from work   \n",
       "Educ_Cat                                                                      \n",
       "0 to 8 years                            75.42                         11.05   \n",
       "Above bachelor's degree                 83.19                          9.11   \n",
       "Bachelor's degree                       79.75                         10.30   \n",
       "High school graduate                    68.22                         12.14   \n",
       "Postsecondary certificate or diploma    72.73                         12.72   \n",
       "Some high school                        62.04                         12.57   \n",
       "Some postsecondary                      56.63                         11.50   \n",
       "\n",
       "                                                                     \n",
       "Emp Status                           Unemployed out of labour force  \n",
       "Educ_Cat                                                             \n",
       "0 to 8 years                              13.52              283.05  \n",
       "Above bachelor's degree                    7.70               26.66  \n",
       "Bachelor's degree                          9.94               32.42  \n",
       "High school graduate                      19.64               56.87  \n",
       "Postsecondary certificate or diploma      14.55               37.94  \n",
       "Some high school                          25.39              133.97  \n",
       "Some postsecondary                        31.87               53.00  "
      ]
     },
     "execution_count": 18,
     "metadata": {},
     "output_type": "execute_result"
    }
   ],
   "source": [
    "just_educ_percent = pd.pivot_table(data[data['Province Name'] == 'Alberta'],values=['FINALWT'],index=['Educ_Cat'],\\\n",
    "                                   columns=['Emp Status'],aggfunc=np.sum).apply(lambda r: round(r/(r.sum() - r[3])*100,2),axis=1)\n",
    "just_educ_percent"
   ]
  },
  {
   "cell_type": "code",
   "execution_count": 21,
   "metadata": {
    "scrolled": true
   },
   "outputs": [
    {
     "ename": "MemoryError",
     "evalue": "Unable to allocate 201. MiB for an array with shape (47, 559281) and data type float64",
     "output_type": "error",
     "traceback": [
      "\u001b[1;31m---------------------------------------------------------------------------\u001b[0m",
      "\u001b[1;31mMemoryError\u001b[0m                               Traceback (most recent call last)",
      "\u001b[1;32m<ipython-input-21-28c6bfa9f4b7>\u001b[0m in \u001b[0;36m<module>\u001b[1;34m()\u001b[0m\n\u001b[0;32m      1\u001b[0m \u001b[0mgc\u001b[0m\u001b[1;33m.\u001b[0m\u001b[0mcollect\u001b[0m\u001b[1;33m(\u001b[0m\u001b[1;33m)\u001b[0m\u001b[1;33m\u001b[0m\u001b[0m\n\u001b[1;32m----> 2\u001b[1;33m \u001b[0meduc_percent\u001b[0m \u001b[1;33m=\u001b[0m \u001b[0mpd\u001b[0m\u001b[1;33m.\u001b[0m\u001b[0mpivot_table\u001b[0m\u001b[1;33m(\u001b[0m\u001b[0mall_data\u001b[0m\u001b[1;33m,\u001b[0m \u001b[0mvalues\u001b[0m\u001b[1;33m=\u001b[0m\u001b[1;33m[\u001b[0m\u001b[1;34m'FINALWT'\u001b[0m\u001b[1;33m]\u001b[0m\u001b[1;33m,\u001b[0m\u001b[0mindex\u001b[0m\u001b[1;33m=\u001b[0m\u001b[1;33m[\u001b[0m\u001b[1;34m'Educ_Cat'\u001b[0m\u001b[1;33m,\u001b[0m\u001b[1;34m'Province Name'\u001b[0m\u001b[1;33m,\u001b[0m\u001b[1;34m'SURVMNTH'\u001b[0m\u001b[1;33m]\u001b[0m\u001b[1;33m,\u001b[0m\u001b[0mcolumns\u001b[0m\u001b[1;33m=\u001b[0m\u001b[1;33m[\u001b[0m\u001b[1;34m'Emp Status'\u001b[0m\u001b[1;33m]\u001b[0m\u001b[1;33m,\u001b[0m\u001b[0maggfunc\u001b[0m\u001b[1;33m=\u001b[0m\u001b[0mnp\u001b[0m\u001b[1;33m.\u001b[0m\u001b[0msum\u001b[0m\u001b[1;33m)\u001b[0m\u001b[1;33m.\u001b[0m\u001b[0mapply\u001b[0m\u001b[1;33m(\u001b[0m\u001b[1;32mlambda\u001b[0m \u001b[0mr\u001b[0m\u001b[1;33m:\u001b[0m \u001b[0mround\u001b[0m\u001b[1;33m(\u001b[0m\u001b[0mr\u001b[0m\u001b[1;33m/\u001b[0m\u001b[1;33m(\u001b[0m\u001b[0mr\u001b[0m\u001b[1;33m.\u001b[0m\u001b[0msum\u001b[0m\u001b[1;33m(\u001b[0m\u001b[1;33m)\u001b[0m\u001b[1;33m-\u001b[0m\u001b[0mr\u001b[0m\u001b[1;33m[\u001b[0m\u001b[1;36m3\u001b[0m\u001b[1;33m]\u001b[0m\u001b[1;33m)\u001b[0m\u001b[1;33m*\u001b[0m\u001b[1;36m100\u001b[0m\u001b[1;33m,\u001b[0m\u001b[1;36m2\u001b[0m\u001b[1;33m)\u001b[0m\u001b[1;33m,\u001b[0m \u001b[0maxis\u001b[0m\u001b[1;33m=\u001b[0m\u001b[1;36m1\u001b[0m\u001b[1;33m)\u001b[0m\u001b[1;33m\u001b[0m\u001b[0m\n\u001b[0m\u001b[0;32m      3\u001b[0m \u001b[0meduc_percent\u001b[0m\u001b[1;33m\u001b[0m\u001b[0m\n",
      "\u001b[1;32mc:\\users\\bobby\\appdata\\local\\programs\\python\\python36-32\\lib\\site-packages\\pandas\\core\\reshape\\pivot.py\u001b[0m in \u001b[0;36mpivot_table\u001b[1;34m(data, values, index, columns, aggfunc, fill_value, margins, dropna, margins_name, observed)\u001b[0m\n\u001b[0;32m     82\u001b[0m                 \u001b[1;32mpass\u001b[0m\u001b[1;33m\u001b[0m\u001b[0m\n\u001b[0;32m     83\u001b[0m         \u001b[1;32mif\u001b[0m \u001b[0mlen\u001b[0m\u001b[1;33m(\u001b[0m\u001b[0mto_filter\u001b[0m\u001b[1;33m)\u001b[0m \u001b[1;33m<\u001b[0m \u001b[0mlen\u001b[0m\u001b[1;33m(\u001b[0m\u001b[0mdata\u001b[0m\u001b[1;33m.\u001b[0m\u001b[0mcolumns\u001b[0m\u001b[1;33m)\u001b[0m\u001b[1;33m:\u001b[0m\u001b[1;33m\u001b[0m\u001b[0m\n\u001b[1;32m---> 84\u001b[1;33m             \u001b[0mdata\u001b[0m \u001b[1;33m=\u001b[0m \u001b[0mdata\u001b[0m\u001b[1;33m[\u001b[0m\u001b[0mto_filter\u001b[0m\u001b[1;33m]\u001b[0m\u001b[1;33m\u001b[0m\u001b[0m\n\u001b[0m\u001b[0;32m     85\u001b[0m \u001b[1;33m\u001b[0m\u001b[0m\n\u001b[0;32m     86\u001b[0m     \u001b[1;32melse\u001b[0m\u001b[1;33m:\u001b[0m\u001b[1;33m\u001b[0m\u001b[0m\n",
      "\u001b[1;32mc:\\users\\bobby\\appdata\\local\\programs\\python\\python36-32\\lib\\site-packages\\pandas\\core\\frame.py\u001b[0m in \u001b[0;36m__getitem__\u001b[1;34m(self, key)\u001b[0m\n\u001b[0;32m   3005\u001b[0m             \u001b[0mindexer\u001b[0m \u001b[1;33m=\u001b[0m \u001b[0mnp\u001b[0m\u001b[1;33m.\u001b[0m\u001b[0mwhere\u001b[0m\u001b[1;33m(\u001b[0m\u001b[0mindexer\u001b[0m\u001b[1;33m)\u001b[0m\u001b[1;33m[\u001b[0m\u001b[1;36m0\u001b[0m\u001b[1;33m]\u001b[0m\u001b[1;33m\u001b[0m\u001b[0m\n\u001b[0;32m   3006\u001b[0m \u001b[1;33m\u001b[0m\u001b[0m\n\u001b[1;32m-> 3007\u001b[1;33m         \u001b[0mdata\u001b[0m \u001b[1;33m=\u001b[0m \u001b[0mself\u001b[0m\u001b[1;33m.\u001b[0m\u001b[0mtake\u001b[0m\u001b[1;33m(\u001b[0m\u001b[0mindexer\u001b[0m\u001b[1;33m,\u001b[0m \u001b[0maxis\u001b[0m\u001b[1;33m=\u001b[0m\u001b[1;36m1\u001b[0m\u001b[1;33m)\u001b[0m\u001b[1;33m\u001b[0m\u001b[0m\n\u001b[0m\u001b[0;32m   3008\u001b[0m \u001b[1;33m\u001b[0m\u001b[0m\n\u001b[0;32m   3009\u001b[0m         \u001b[1;32mif\u001b[0m \u001b[0mis_single_key\u001b[0m\u001b[1;33m:\u001b[0m\u001b[1;33m\u001b[0m\u001b[0m\n",
      "\u001b[1;32mc:\\users\\bobby\\appdata\\local\\programs\\python\\python36-32\\lib\\site-packages\\pandas\\core\\generic.py\u001b[0m in \u001b[0;36mtake\u001b[1;34m(self, indices, axis, is_copy, **kwargs)\u001b[0m\n\u001b[0;32m   3599\u001b[0m         \u001b[0mnv\u001b[0m\u001b[1;33m.\u001b[0m\u001b[0mvalidate_take\u001b[0m\u001b[1;33m(\u001b[0m\u001b[0mtuple\u001b[0m\u001b[1;33m(\u001b[0m\u001b[1;33m)\u001b[0m\u001b[1;33m,\u001b[0m \u001b[0mkwargs\u001b[0m\u001b[1;33m)\u001b[0m\u001b[1;33m\u001b[0m\u001b[0m\n\u001b[0;32m   3600\u001b[0m \u001b[1;33m\u001b[0m\u001b[0m\n\u001b[1;32m-> 3601\u001b[1;33m         \u001b[0mself\u001b[0m\u001b[1;33m.\u001b[0m\u001b[0m_consolidate_inplace\u001b[0m\u001b[1;33m(\u001b[0m\u001b[1;33m)\u001b[0m\u001b[1;33m\u001b[0m\u001b[0m\n\u001b[0m\u001b[0;32m   3602\u001b[0m \u001b[1;33m\u001b[0m\u001b[0m\n\u001b[0;32m   3603\u001b[0m         new_data = self._data.take(\n",
      "\u001b[1;32mc:\\users\\bobby\\appdata\\local\\programs\\python\\python36-32\\lib\\site-packages\\pandas\\core\\generic.py\u001b[0m in \u001b[0;36m_consolidate_inplace\u001b[1;34m(self)\u001b[0m\n\u001b[0;32m   5250\u001b[0m             \u001b[0mself\u001b[0m\u001b[1;33m.\u001b[0m\u001b[0m_data\u001b[0m \u001b[1;33m=\u001b[0m \u001b[0mself\u001b[0m\u001b[1;33m.\u001b[0m\u001b[0m_data\u001b[0m\u001b[1;33m.\u001b[0m\u001b[0mconsolidate\u001b[0m\u001b[1;33m(\u001b[0m\u001b[1;33m)\u001b[0m\u001b[1;33m\u001b[0m\u001b[0m\n\u001b[0;32m   5251\u001b[0m \u001b[1;33m\u001b[0m\u001b[0m\n\u001b[1;32m-> 5252\u001b[1;33m         \u001b[0mself\u001b[0m\u001b[1;33m.\u001b[0m\u001b[0m_protect_consolidate\u001b[0m\u001b[1;33m(\u001b[0m\u001b[0mf\u001b[0m\u001b[1;33m)\u001b[0m\u001b[1;33m\u001b[0m\u001b[0m\n\u001b[0m\u001b[0;32m   5253\u001b[0m \u001b[1;33m\u001b[0m\u001b[0m\n\u001b[0;32m   5254\u001b[0m     \u001b[1;32mdef\u001b[0m \u001b[0m_consolidate\u001b[0m\u001b[1;33m(\u001b[0m\u001b[0mself\u001b[0m\u001b[1;33m,\u001b[0m \u001b[0minplace\u001b[0m\u001b[1;33m=\u001b[0m\u001b[1;32mFalse\u001b[0m\u001b[1;33m)\u001b[0m\u001b[1;33m:\u001b[0m\u001b[1;33m\u001b[0m\u001b[0m\n",
      "\u001b[1;32mc:\\users\\bobby\\appdata\\local\\programs\\python\\python36-32\\lib\\site-packages\\pandas\\core\\generic.py\u001b[0m in \u001b[0;36m_protect_consolidate\u001b[1;34m(self, f)\u001b[0m\n\u001b[0;32m   5239\u001b[0m         \"\"\"\n\u001b[0;32m   5240\u001b[0m         \u001b[0mblocks_before\u001b[0m \u001b[1;33m=\u001b[0m \u001b[0mlen\u001b[0m\u001b[1;33m(\u001b[0m\u001b[0mself\u001b[0m\u001b[1;33m.\u001b[0m\u001b[0m_data\u001b[0m\u001b[1;33m.\u001b[0m\u001b[0mblocks\u001b[0m\u001b[1;33m)\u001b[0m\u001b[1;33m\u001b[0m\u001b[0m\n\u001b[1;32m-> 5241\u001b[1;33m         \u001b[0mresult\u001b[0m \u001b[1;33m=\u001b[0m \u001b[0mf\u001b[0m\u001b[1;33m(\u001b[0m\u001b[1;33m)\u001b[0m\u001b[1;33m\u001b[0m\u001b[0m\n\u001b[0m\u001b[0;32m   5242\u001b[0m         \u001b[1;32mif\u001b[0m \u001b[0mlen\u001b[0m\u001b[1;33m(\u001b[0m\u001b[0mself\u001b[0m\u001b[1;33m.\u001b[0m\u001b[0m_data\u001b[0m\u001b[1;33m.\u001b[0m\u001b[0mblocks\u001b[0m\u001b[1;33m)\u001b[0m \u001b[1;33m!=\u001b[0m \u001b[0mblocks_before\u001b[0m\u001b[1;33m:\u001b[0m\u001b[1;33m\u001b[0m\u001b[0m\n\u001b[0;32m   5243\u001b[0m             \u001b[0mself\u001b[0m\u001b[1;33m.\u001b[0m\u001b[0m_clear_item_cache\u001b[0m\u001b[1;33m(\u001b[0m\u001b[1;33m)\u001b[0m\u001b[1;33m\u001b[0m\u001b[0m\n",
      "\u001b[1;32mc:\\users\\bobby\\appdata\\local\\programs\\python\\python36-32\\lib\\site-packages\\pandas\\core\\generic.py\u001b[0m in \u001b[0;36mf\u001b[1;34m()\u001b[0m\n\u001b[0;32m   5248\u001b[0m \u001b[1;33m\u001b[0m\u001b[0m\n\u001b[0;32m   5249\u001b[0m         \u001b[1;32mdef\u001b[0m \u001b[0mf\u001b[0m\u001b[1;33m(\u001b[0m\u001b[1;33m)\u001b[0m\u001b[1;33m:\u001b[0m\u001b[1;33m\u001b[0m\u001b[0m\n\u001b[1;32m-> 5250\u001b[1;33m             \u001b[0mself\u001b[0m\u001b[1;33m.\u001b[0m\u001b[0m_data\u001b[0m \u001b[1;33m=\u001b[0m \u001b[0mself\u001b[0m\u001b[1;33m.\u001b[0m\u001b[0m_data\u001b[0m\u001b[1;33m.\u001b[0m\u001b[0mconsolidate\u001b[0m\u001b[1;33m(\u001b[0m\u001b[1;33m)\u001b[0m\u001b[1;33m\u001b[0m\u001b[0m\n\u001b[0m\u001b[0;32m   5251\u001b[0m \u001b[1;33m\u001b[0m\u001b[0m\n\u001b[0;32m   5252\u001b[0m         \u001b[0mself\u001b[0m\u001b[1;33m.\u001b[0m\u001b[0m_protect_consolidate\u001b[0m\u001b[1;33m(\u001b[0m\u001b[0mf\u001b[0m\u001b[1;33m)\u001b[0m\u001b[1;33m\u001b[0m\u001b[0m\n",
      "\u001b[1;32mc:\\users\\bobby\\appdata\\local\\programs\\python\\python36-32\\lib\\site-packages\\pandas\\core\\internals\\managers.py\u001b[0m in \u001b[0;36mconsolidate\u001b[1;34m(self)\u001b[0m\n\u001b[0;32m    930\u001b[0m         \u001b[0mbm\u001b[0m \u001b[1;33m=\u001b[0m \u001b[0mself\u001b[0m\u001b[1;33m.\u001b[0m\u001b[0m__class__\u001b[0m\u001b[1;33m(\u001b[0m\u001b[0mself\u001b[0m\u001b[1;33m.\u001b[0m\u001b[0mblocks\u001b[0m\u001b[1;33m,\u001b[0m \u001b[0mself\u001b[0m\u001b[1;33m.\u001b[0m\u001b[0maxes\u001b[0m\u001b[1;33m)\u001b[0m\u001b[1;33m\u001b[0m\u001b[0m\n\u001b[0;32m    931\u001b[0m         \u001b[0mbm\u001b[0m\u001b[1;33m.\u001b[0m\u001b[0m_is_consolidated\u001b[0m \u001b[1;33m=\u001b[0m \u001b[1;32mFalse\u001b[0m\u001b[1;33m\u001b[0m\u001b[0m\n\u001b[1;32m--> 932\u001b[1;33m         \u001b[0mbm\u001b[0m\u001b[1;33m.\u001b[0m\u001b[0m_consolidate_inplace\u001b[0m\u001b[1;33m(\u001b[0m\u001b[1;33m)\u001b[0m\u001b[1;33m\u001b[0m\u001b[0m\n\u001b[0m\u001b[0;32m    933\u001b[0m         \u001b[1;32mreturn\u001b[0m \u001b[0mbm\u001b[0m\u001b[1;33m\u001b[0m\u001b[0m\n\u001b[0;32m    934\u001b[0m \u001b[1;33m\u001b[0m\u001b[0m\n",
      "\u001b[1;32mc:\\users\\bobby\\appdata\\local\\programs\\python\\python36-32\\lib\\site-packages\\pandas\\core\\internals\\managers.py\u001b[0m in \u001b[0;36m_consolidate_inplace\u001b[1;34m(self)\u001b[0m\n\u001b[0;32m    935\u001b[0m     \u001b[1;32mdef\u001b[0m \u001b[0m_consolidate_inplace\u001b[0m\u001b[1;33m(\u001b[0m\u001b[0mself\u001b[0m\u001b[1;33m)\u001b[0m\u001b[1;33m:\u001b[0m\u001b[1;33m\u001b[0m\u001b[0m\n\u001b[0;32m    936\u001b[0m         \u001b[1;32mif\u001b[0m \u001b[1;32mnot\u001b[0m \u001b[0mself\u001b[0m\u001b[1;33m.\u001b[0m\u001b[0mis_consolidated\u001b[0m\u001b[1;33m(\u001b[0m\u001b[1;33m)\u001b[0m\u001b[1;33m:\u001b[0m\u001b[1;33m\u001b[0m\u001b[0m\n\u001b[1;32m--> 937\u001b[1;33m             \u001b[0mself\u001b[0m\u001b[1;33m.\u001b[0m\u001b[0mblocks\u001b[0m \u001b[1;33m=\u001b[0m \u001b[0mtuple\u001b[0m\u001b[1;33m(\u001b[0m\u001b[0m_consolidate\u001b[0m\u001b[1;33m(\u001b[0m\u001b[0mself\u001b[0m\u001b[1;33m.\u001b[0m\u001b[0mblocks\u001b[0m\u001b[1;33m)\u001b[0m\u001b[1;33m)\u001b[0m\u001b[1;33m\u001b[0m\u001b[0m\n\u001b[0m\u001b[0;32m    938\u001b[0m             \u001b[0mself\u001b[0m\u001b[1;33m.\u001b[0m\u001b[0m_is_consolidated\u001b[0m \u001b[1;33m=\u001b[0m \u001b[1;32mTrue\u001b[0m\u001b[1;33m\u001b[0m\u001b[0m\n\u001b[0;32m    939\u001b[0m             \u001b[0mself\u001b[0m\u001b[1;33m.\u001b[0m\u001b[0m_known_consolidated\u001b[0m \u001b[1;33m=\u001b[0m \u001b[1;32mTrue\u001b[0m\u001b[1;33m\u001b[0m\u001b[0m\n",
      "\u001b[1;32mc:\\users\\bobby\\appdata\\local\\programs\\python\\python36-32\\lib\\site-packages\\pandas\\core\\internals\\managers.py\u001b[0m in \u001b[0;36m_consolidate\u001b[1;34m(blocks)\u001b[0m\n\u001b[0;32m   1911\u001b[0m     \u001b[1;32mfor\u001b[0m \u001b[1;33m(\u001b[0m\u001b[0m_can_consolidate\u001b[0m\u001b[1;33m,\u001b[0m \u001b[0mdtype\u001b[0m\u001b[1;33m)\u001b[0m\u001b[1;33m,\u001b[0m \u001b[0mgroup_blocks\u001b[0m \u001b[1;32min\u001b[0m \u001b[0mgrouper\u001b[0m\u001b[1;33m:\u001b[0m\u001b[1;33m\u001b[0m\u001b[0m\n\u001b[0;32m   1912\u001b[0m         merged_blocks = _merge_blocks(\n\u001b[1;32m-> 1913\u001b[1;33m             \u001b[0mlist\u001b[0m\u001b[1;33m(\u001b[0m\u001b[0mgroup_blocks\u001b[0m\u001b[1;33m)\u001b[0m\u001b[1;33m,\u001b[0m \u001b[0mdtype\u001b[0m\u001b[1;33m=\u001b[0m\u001b[0mdtype\u001b[0m\u001b[1;33m,\u001b[0m \u001b[0m_can_consolidate\u001b[0m\u001b[1;33m=\u001b[0m\u001b[0m_can_consolidate\u001b[0m\u001b[1;33m\u001b[0m\u001b[0m\n\u001b[0m\u001b[0;32m   1914\u001b[0m         )\n\u001b[0;32m   1915\u001b[0m         \u001b[0mnew_blocks\u001b[0m \u001b[1;33m=\u001b[0m \u001b[0m_extend_blocks\u001b[0m\u001b[1;33m(\u001b[0m\u001b[0mmerged_blocks\u001b[0m\u001b[1;33m,\u001b[0m \u001b[0mnew_blocks\u001b[0m\u001b[1;33m)\u001b[0m\u001b[1;33m\u001b[0m\u001b[0m\n",
      "\u001b[1;32mc:\\users\\bobby\\appdata\\local\\programs\\python\\python36-32\\lib\\site-packages\\pandas\\core\\internals\\blocks.py\u001b[0m in \u001b[0;36m_merge_blocks\u001b[1;34m(blocks, dtype, _can_consolidate)\u001b[0m\n\u001b[0;32m   3335\u001b[0m         \u001b[1;31m# combination of those slices is a slice, too.\u001b[0m\u001b[1;33m\u001b[0m\u001b[1;33m\u001b[0m\u001b[0m\n\u001b[0;32m   3336\u001b[0m         \u001b[0mnew_mgr_locs\u001b[0m \u001b[1;33m=\u001b[0m \u001b[0mnp\u001b[0m\u001b[1;33m.\u001b[0m\u001b[0mconcatenate\u001b[0m\u001b[1;33m(\u001b[0m\u001b[1;33m[\u001b[0m\u001b[0mb\u001b[0m\u001b[1;33m.\u001b[0m\u001b[0mmgr_locs\u001b[0m\u001b[1;33m.\u001b[0m\u001b[0mas_array\u001b[0m \u001b[1;32mfor\u001b[0m \u001b[0mb\u001b[0m \u001b[1;32min\u001b[0m \u001b[0mblocks\u001b[0m\u001b[1;33m]\u001b[0m\u001b[1;33m)\u001b[0m\u001b[1;33m\u001b[0m\u001b[0m\n\u001b[1;32m-> 3337\u001b[1;33m         \u001b[0mnew_values\u001b[0m \u001b[1;33m=\u001b[0m \u001b[0mnp\u001b[0m\u001b[1;33m.\u001b[0m\u001b[0mvstack\u001b[0m\u001b[1;33m(\u001b[0m\u001b[1;33m[\u001b[0m\u001b[0mb\u001b[0m\u001b[1;33m.\u001b[0m\u001b[0mvalues\u001b[0m \u001b[1;32mfor\u001b[0m \u001b[0mb\u001b[0m \u001b[1;32min\u001b[0m \u001b[0mblocks\u001b[0m\u001b[1;33m]\u001b[0m\u001b[1;33m)\u001b[0m\u001b[1;33m\u001b[0m\u001b[0m\n\u001b[0m\u001b[0;32m   3338\u001b[0m \u001b[1;33m\u001b[0m\u001b[0m\n\u001b[0;32m   3339\u001b[0m         \u001b[0margsort\u001b[0m \u001b[1;33m=\u001b[0m \u001b[0mnp\u001b[0m\u001b[1;33m.\u001b[0m\u001b[0margsort\u001b[0m\u001b[1;33m(\u001b[0m\u001b[0mnew_mgr_locs\u001b[0m\u001b[1;33m)\u001b[0m\u001b[1;33m\u001b[0m\u001b[0m\n",
      "\u001b[1;32m<__array_function__ internals>\u001b[0m in \u001b[0;36mvstack\u001b[1;34m(*args, **kwargs)\u001b[0m\n",
      "\u001b[1;32mc:\\users\\bobby\\appdata\\local\\programs\\python\\python36-32\\lib\\site-packages\\numpy\\core\\shape_base.py\u001b[0m in \u001b[0;36mvstack\u001b[1;34m(tup)\u001b[0m\n\u001b[0;32m    281\u001b[0m     \u001b[1;32mif\u001b[0m \u001b[1;32mnot\u001b[0m \u001b[0misinstance\u001b[0m\u001b[1;33m(\u001b[0m\u001b[0marrs\u001b[0m\u001b[1;33m,\u001b[0m \u001b[0mlist\u001b[0m\u001b[1;33m)\u001b[0m\u001b[1;33m:\u001b[0m\u001b[1;33m\u001b[0m\u001b[0m\n\u001b[0;32m    282\u001b[0m         \u001b[0marrs\u001b[0m \u001b[1;33m=\u001b[0m \u001b[1;33m[\u001b[0m\u001b[0marrs\u001b[0m\u001b[1;33m]\u001b[0m\u001b[1;33m\u001b[0m\u001b[0m\n\u001b[1;32m--> 283\u001b[1;33m     \u001b[1;32mreturn\u001b[0m \u001b[0m_nx\u001b[0m\u001b[1;33m.\u001b[0m\u001b[0mconcatenate\u001b[0m\u001b[1;33m(\u001b[0m\u001b[0marrs\u001b[0m\u001b[1;33m,\u001b[0m \u001b[1;36m0\u001b[0m\u001b[1;33m)\u001b[0m\u001b[1;33m\u001b[0m\u001b[0m\n\u001b[0m\u001b[0;32m    284\u001b[0m \u001b[1;33m\u001b[0m\u001b[0m\n\u001b[0;32m    285\u001b[0m \u001b[1;33m\u001b[0m\u001b[0m\n",
      "\u001b[1;32m<__array_function__ internals>\u001b[0m in \u001b[0;36mconcatenate\u001b[1;34m(*args, **kwargs)\u001b[0m\n",
      "\u001b[1;31mMemoryError\u001b[0m: Unable to allocate 201. MiB for an array with shape (47, 559281) and data type float64"
     ]
    }
   ],
   "source": [
    "gc.collect()\n",
    "educ_percent = pd.pivot_table(all_data, values=['FINALWT'],index=['Educ_Cat','Province Name','SURVMNTH'],columns=['Emp Status'],aggfunc=np.sum).apply(lambda r: round(r/(r.sum()-r[3])*100,2), axis=1)\n",
    "educ_percent"
   ]
  },
  {
   "cell_type": "code",
   "execution_count": null,
   "metadata": {
    "collapsed": true
   },
   "outputs": [],
   "source": [
    "educ_percent.to_csv('C:/Users/Bobby/Documents/Stats Canada/may_unemp_education.csv',sep='^')"
   ]
  },
  {
   "cell_type": "code",
   "execution_count": null,
   "metadata": {
    "scrolled": true
   },
   "outputs": [],
   "source": [
    "educ_total = pd.pivot_table(data, values=['FINALWT'],index=['Educ_Cat','Province Name'],columns=['Emp Status'],aggfunc=np.sum)\n",
    "educ_total"
   ]
  },
  {
   "cell_type": "code",
   "execution_count": null,
   "metadata": {},
   "outputs": [],
   "source": [
    "percent = percent.reset_index()"
   ]
  },
  {
   "cell_type": "code",
   "execution_count": null,
   "metadata": {},
   "outputs": [],
   "source": [
    "percent"
   ]
  },
  {
   "cell_type": "code",
   "execution_count": null,
   "metadata": {
    "scrolled": true
   },
   "outputs": [],
   "source": [
    "percent_month = pd.pivot_table(all_data,values=['FINALWT'],index=['Month','Province Name'],columns=['Emp Status'],\\\n",
    "                               aggfunc=np.sum).apply(lambda r:round(r/(r.sum()-r[2])*100,2), axis=1)\n",
    "percent_month = percent_month.reset_index()\n",
    "percent_month"
   ]
  },
  {
   "cell_type": "code",
   "execution_count": null,
   "metadata": {},
   "outputs": [],
   "source": [
    "print(percent_month['Month'].dtypes)"
   ]
  },
  {
   "cell_type": "code",
   "execution_count": null,
   "metadata": {},
   "outputs": [],
   "source": [
    "percent_month[percent_month['Province Name',''] == 'Alberta']"
   ]
  },
  {
   "cell_type": "code",
   "execution_count": null,
   "metadata": {
    "scrolled": false
   },
   "outputs": [],
   "source": [
    "percent_month = pd.pivot_table(all_data,values=['FINALWT'],index=['Month','Province Name'],columns=['Emp Status'],\\\n",
    "                               aggfunc=np.sum).apply(lambda r:round(r/(r.sum()-r[2])*100,2), axis=1)\n",
    "percent_month = percent_month.reset_index()\n",
    "\n",
    "line_chart = sns.relplot(x=('Month',''),y=('FINALWT','Unemployed'),\\\n",
    "                        hue=('Province Name',''),kind='line',data=percent_month)\n",
    "line_chart.set_xticklabels(rotation=40)\n",
    "\n",
    "plt.show()"
   ]
  },
  {
   "cell_type": "code",
   "execution_count": null,
   "metadata": {
    "scrolled": true
   },
   "outputs": [],
   "source": [
    "educ_pivot = pd.pivot_table(all_data,values=['FINALWT'],index=['Month','Educ_Cat'],columns=['Emp Status']\\\n",
    "                            ,aggfunc=np.sum).apply(lambda r: round(r/(r.sum() - r[2])*100,2),axis=1)\n",
    "educ_pivot = educ_pivot.reset_index()\n",
    "educ_time_series = sns.relplot(x=('Month',''),y=('FINALWT','Unemployed'),\\\n",
    "                               hue=('Educ_Cat',''),kind='line',\\\n",
    "                               data=educ_pivot)\n",
    "educ_time_series.set_xticklabels(rotation=45)\n",
    "plt.show()"
   ]
  },
  {
   "cell_type": "code",
   "execution_count": null,
   "metadata": {},
   "outputs": [],
   "source": [
    "facet=sns.FacetGrid(educ_pivot,col=('Educ_Cat',''))\n",
    "facet.map(sns.barplot,('Month',''),('FINALWT','Unemployed'))\n",
    "facet.set_xticklabels(rotation=90)\n",
    "plt.show()"
   ]
  },
  {
   "cell_type": "code",
   "execution_count": null,
   "metadata": {
    "collapsed": true
   },
   "outputs": [],
   "source": [
    "educ_pivot = pd.pivot_table(all_data,values=['FINALWT'],index=['Month','Province Name','Educ_Cat'],columns=['Emp Status']\\\n",
    "                            ,aggfunc=np.sum).apply(lambda r: round(r/(r.sum() - r[2])*100,2),axis=1)\n",
    "educ_pivot = educ_pivot.reset_index()"
   ]
  },
  {
   "cell_type": "code",
   "execution_count": null,
   "metadata": {
    "scrolled": false
   },
   "outputs": [],
   "source": [
    "facet = sns.FacetGrid(educ_pivot,col=('Province Name',''),col_wrap=3,hue=('Educ_Cat',''))\n",
    "facet.map(sns.lineplot,('Month',''),('FINALWT','Unemployed'))\n",
    "facet.set_xticklabels(rotation=45)\n",
    "facet.add_legend()\n",
    "plt.show()"
   ]
  },
  {
   "cell_type": "code",
   "execution_count": null,
   "metadata": {
    "scrolled": true
   },
   "outputs": [],
   "source": [
    "educ_pivot.columns"
   ]
  },
  {
   "cell_type": "code",
   "execution_count": null,
   "metadata": {},
   "outputs": [],
   "source": [
    "print(educ_pivot.columns)"
   ]
  },
  {
   "cell_type": "code",
   "execution_count": null,
   "metadata": {},
   "outputs": [],
   "source": [
    "just_educ_percent = just_educ_percent.reset_index()\n",
    "print(just_educ_percent.columns)"
   ]
  },
  {
   "cell_type": "code",
   "execution_count": null,
   "metadata": {},
   "outputs": [],
   "source": [
    "educ_bar_chart = sns.catplot(('Educ_Cat',                              ''),( 'FINALWT',                    'Unemployed'),\\\n",
    "                            data=just_educ_percent)\n",
    "educ_bar_chart.set_xticklabels(rotation=30)\n",
    "plt.show()"
   ]
  },
  {
   "cell_type": "code",
   "execution_count": null,
   "metadata": {},
   "outputs": [],
   "source": [
    "percent['Age_Cat'].iloc[0]"
   ]
  },
  {
   "cell_type": "code",
   "execution_count": null,
   "metadata": {
    "collapsed": true
   },
   "outputs": [],
   "source": []
  }
 ],
 "metadata": {
  "kernelspec": {
   "display_name": "Python 3",
   "language": "python",
   "name": "python3"
  },
  "language_info": {
   "codemirror_mode": {
    "name": "ipython",
    "version": 3
   },
   "file_extension": ".py",
   "mimetype": "text/x-python",
   "name": "python",
   "nbconvert_exporter": "python",
   "pygments_lexer": "ipython3",
   "version": "3.7.6"
  }
 },
 "nbformat": 4,
 "nbformat_minor": 2
}
